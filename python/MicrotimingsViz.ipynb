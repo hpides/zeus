{
 "cells": [
  {
   "cell_type": "code",
   "execution_count": 38,
   "metadata": {},
   "outputs": [
    {
     "name": "stdout",
     "output_type": "stream",
     "text": [
      "Index(['startTime', 'diffTime', 'eventCount', 'side'], dtype='object')\n"
     ]
    }
   ],
   "source": [
    "import pandas as pd\n",
    "import numpy as np\n",
    "\n",
    "df = pd.read_csv(\"../logs/ajoin_reads_05-18-25.csv\", nrows=100000)\n",
    "\n",
    "print(df.columns)\n"
   ]
  },
  {
   "cell_type": "code",
   "execution_count": 41,
   "metadata": {},
   "outputs": [
    {
     "data": {
      "text/plain": [
       "[<matplotlib.lines.Line2D at 0x11d9f2400>]"
      ]
     },
     "execution_count": 41,
     "metadata": {},
     "output_type": "execute_result"
    },
    {
     "data": {
      "image/png": "[encoded data removed]",
      "text/plain": [
       "<Figure size 432x288 with 4 Axes>"
      ]
     },
     "metadata": {
      "needs_background": "light"
     },
     "output_type": "display_data"
    }
   ],
   "source": [
    "import matplotlib.pyplot as plt\n",
    "\n",
    "fig, (ax1, ax2, ax3, ax4) = plt.subplots(4)\n",
    "# fig.suptitle('Vertically stacked subplots')\n",
    "ax1.plot(df[(df['side']  == \"left\") & (df['eventCount'] > 0)]['diffTime'])\n",
    "ax2.plot(df[(df['side']  == \"right\") & (df['eventCount'] > 0)]['diffTime'])\n",
    "ax3.plot(df[(df['side']  == \"left\") & (df['eventCount'] > 0)]['eventCount'])\n",
    "ax4.plot(df[(df['side']  == \"right\") & (df['eventCount'] > 0)]['eventCount'])\n",
    "# ax1.ylabel('diffTime')\n",
    "# ax2.ylabel('diffTime')\n",
    "# plt.show()"
   ]
  },
  {
   "cell_type": "code",
   "execution_count": null,
   "metadata": {},
   "outputs": [],
   "source": []
  }
 ],
 "metadata": {
  "kernelspec": {
   "display_name": "Python 3",
   "language": "python",
   "name": "python3"
  },
  "language_info": {
   "codemirror_mode": {
    "name": "ipython",
    "version": 3
   },
   "file_extension": ".py",
   "mimetype": "text/x-python",
   "name": "python",
   "nbconvert_exporter": "python",
   "pygments_lexer": "ipython3",
   "version": "3.6.5"
  }
 },
 "nbformat": 4,
 "nbformat_minor": 4
}
